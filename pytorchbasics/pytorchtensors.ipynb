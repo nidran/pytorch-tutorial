{
 "cells": [
  {
   "cell_type": "code",
   "execution_count": 2,
   "metadata": {},
   "outputs": [
    {
     "name": "stdout",
     "output_type": "stream",
     "text": [
      "1.4.0\n"
     ]
    }
   ],
   "source": [
    "import torch\n",
    "\n",
    "print(torch.__version__)"
   ]
  },
  {
   "cell_type": "code",
   "execution_count": 5,
   "metadata": {},
   "outputs": [
    {
     "data": {
      "text/plain": [
       "torch.float32"
      ]
     },
     "execution_count": 5,
     "metadata": {},
     "output_type": "execute_result"
    }
   ],
   "source": [
    "torch.get_default_dtype()"
   ]
  },
  {
   "cell_type": "code",
   "execution_count": 39,
   "metadata": {},
   "outputs": [
    {
     "data": {
      "text/plain": [
       "tensor([[ 1.,  2.,  3.,  4.,  5.,  6.],\n",
       "        [ 7.,  8.,  9., 10., 11., 12.],\n",
       "        [13., 14., 15., 16., 17., 18.]])"
      ]
     },
     "execution_count": 39,
     "metadata": {},
     "output_type": "execute_result"
    }
   ],
   "source": [
    "torcharr = torch.Tensor([[1,2,3,4,5,6],[7,8,9,10,11,12],[13,14,15,16,17,18]])\n",
    "torcharr"
   ]
  },
  {
   "cell_type": "code",
   "execution_count": 8,
   "metadata": {},
   "outputs": [
    {
     "data": {
      "text/plain": [
       "6"
      ]
     },
     "execution_count": 8,
     "metadata": {},
     "output_type": "execute_result"
    }
   ],
   "source": [
    "torch.numel(torcharr)"
   ]
  },
  {
   "cell_type": "code",
   "execution_count": 8,
   "metadata": {},
   "outputs": [
    {
     "data": {
      "text/plain": [
       "tensor([[-4.0735e-03,  5.4114e-01, -1.3978e-01,  5.1180e-01, -9.2104e-01,\n",
       "         -1.3800e+00, -1.6184e-03, -1.9551e+00, -3.9501e-01, -6.2244e-01],\n",
       "        [-1.4646e+00,  1.2396e+00,  1.0022e+00, -5.0958e-01, -2.9364e-01,\n",
       "          1.3264e+00,  1.9630e-01, -1.1837e+00,  4.3401e-01, -1.2972e+00],\n",
       "        [ 4.8975e-01, -1.1093e-01,  1.9159e-01, -2.6191e-01,  2.4478e+00,\n",
       "         -2.9869e-02,  3.6611e-01,  5.8178e-02, -3.7920e-01, -6.1944e-01],\n",
       "        [-9.0340e-01,  1.2245e+00,  1.3483e+00, -1.3565e-01, -4.6306e-01,\n",
       "         -1.2162e+00,  1.1467e-01, -1.4403e+00, -1.6657e+00, -1.7864e+00],\n",
       "        [-1.0751e+00,  7.0873e-01,  1.8994e+00,  2.5911e-01,  2.9803e-01,\n",
       "          2.3697e+00, -9.7844e-01,  1.2830e+00,  1.1462e+00, -5.2850e-01],\n",
       "        [-1.2224e-01, -5.9635e-01, -9.3375e-01, -1.1437e+00, -9.2324e-01,\n",
       "          1.4822e+00,  8.6508e-02,  1.0925e+00,  4.4451e-01,  6.7891e-01],\n",
       "        [ 1.4958e+00,  1.9707e-01,  4.7231e-01, -1.0198e-01, -2.3976e+00,\n",
       "          3.4044e-01,  1.7065e+00,  1.0841e+00,  1.5091e+00,  7.5909e-01],\n",
       "        [ 1.0691e+00,  7.9593e-02,  1.2108e+00,  1.6026e+00,  9.9511e-01,\n",
       "         -1.3166e-01,  6.7144e-01,  2.7274e+00,  2.8752e-01,  2.0927e-01],\n",
       "        [ 4.9613e-01, -2.6297e-01,  1.2601e+00,  2.2838e-01, -1.3011e-01,\n",
       "         -2.0260e+00, -6.9915e-01,  1.4906e-01, -1.3357e+00,  1.6808e+00],\n",
       "        [-2.9593e-02,  9.4904e-01, -2.1668e+00, -9.8544e-01, -1.3967e+00,\n",
       "          5.1953e-01,  2.4618e+00, -6.5573e-01,  1.2782e+00, -9.6728e-01],\n",
       "        [ 8.7867e-01, -9.8941e-01,  1.5416e+00,  3.1144e-01, -2.1851e-01,\n",
       "          9.8666e-01,  2.2991e-01,  3.4211e-01, -5.3250e-01, -5.7861e-01],\n",
       "        [-1.4794e+00, -8.9685e-01,  2.3289e+00, -8.1255e-01,  4.4251e-01,\n",
       "          6.0118e-01, -6.6336e-01,  2.3958e-01, -9.2832e-01,  2.9181e+00],\n",
       "        [-6.4445e-01,  3.3382e-02,  9.1667e-01, -8.4759e-02, -3.8585e-01,\n",
       "         -1.3355e+00,  1.5037e+00, -1.1014e+00, -7.9620e-01,  1.0014e-01],\n",
       "        [ 2.2361e+00,  4.7641e-01, -2.0192e-01,  4.6436e-01, -1.6824e-01,\n",
       "         -4.4736e-01, -5.6245e-01, -5.4871e-01,  7.4049e-01,  7.0893e-02],\n",
       "        [-1.7690e+00,  1.4774e+00,  9.2839e-01, -1.2070e-01, -6.5611e-01,\n",
       "         -1.6470e+00, -8.8061e-02,  5.9403e-01,  7.5446e-01,  1.0256e+00],\n",
       "        [-1.1879e+00, -2.0290e+00, -1.4803e+00, -1.4537e+00, -5.6238e-02,\n",
       "          1.9466e-01, -1.0441e+00, -4.0899e-01, -8.6627e-02,  1.0811e+00],\n",
       "        [-1.4581e+00,  1.0687e+00,  1.6087e+00, -1.6751e+00,  3.7017e-01,\n",
       "         -6.9058e-01, -3.0273e-01,  1.4123e+00,  2.2279e-01,  8.3678e-01],\n",
       "        [-9.9588e-01, -1.8172e+00,  6.1674e-01, -9.5503e-01,  1.0172e+00,\n",
       "          6.0170e-01, -1.3181e+00, -2.0064e+00, -1.1785e+00, -8.7872e-01],\n",
       "        [ 6.8963e-01, -6.4867e-01,  5.8693e-01,  8.8184e-02,  4.4482e-01,\n",
       "         -5.9275e-01,  1.6145e+00,  9.0804e-02, -2.6442e-01,  9.3245e-02],\n",
       "        [ 1.7048e+00, -1.3156e+00, -1.2944e+00,  8.9567e-01,  9.8281e-01,\n",
       "         -4.0062e-02,  6.3028e-01, -1.6723e+00, -1.2084e+00,  1.6513e+00]])"
      ]
     },
     "execution_count": 8,
     "metadata": {},
     "output_type": "execute_result"
    }
   ],
   "source": [
    "torch_initialise = torch.randn(20,10)\n",
    "torch_initialise"
   ]
  },
  {
   "cell_type": "code",
   "execution_count": 64,
   "metadata": {},
   "outputs": [
    {
     "data": {
      "text/plain": [
       "tensor([5, 3], dtype=torch.int32)"
      ]
     },
     "execution_count": 64,
     "metadata": {},
     "output_type": "execute_result"
    }
   ],
   "source": [
    "torch_int = torch.tensor([5,3]).type(torch.IntTensor)\n",
    "torch_int"
   ]
  },
  {
   "cell_type": "code",
   "execution_count": 12,
   "metadata": {},
   "outputs": [
    {
     "data": {
      "text/plain": [
       "tensor([[10., 10., 10., 10., 10., 10.],\n",
       "        [10., 10., 10., 10., 10., 10.]])"
      ]
     },
     "execution_count": 12,
     "metadata": {},
     "output_type": "execute_result"
    }
   ],
   "source": [
    "torch_fill = torch.full((2,6), fill_value=10)\n",
    "torch_fill"
   ]
  },
  {
   "cell_type": "code",
   "execution_count": 17,
   "metadata": {},
   "outputs": [
    {
     "data": {
      "text/plain": [
       "tensor([[1., 0., 0., 0.],\n",
       "        [0., 1., 0., 0.],\n",
       "        [0., 0., 1., 0.],\n",
       "        [0., 0., 0., 1.]])"
      ]
     },
     "execution_count": 17,
     "metadata": {},
     "output_type": "execute_result"
    }
   ],
   "source": [
    "torch_identity_matrix = torch.eye(4)\n",
    "torch_identity_matrix"
   ]
  },
  {
   "cell_type": "code",
   "execution_count": 18,
   "metadata": {},
   "outputs": [
    {
     "data": {
      "text/plain": [
       "tensor([[0, 0],\n",
       "        [1, 1],\n",
       "        [2, 2],\n",
       "        [3, 3]])"
      ]
     },
     "execution_count": 18,
     "metadata": {},
     "output_type": "execute_result"
    }
   ],
   "source": [
    "non_zero_positions_of_tensor = torch.nonzero(torch_identity_matrix)\n",
    "non_zero_positions_of_tensor"
   ]
  },
  {
   "cell_type": "code",
   "execution_count": 24,
   "metadata": {},
   "outputs": [
    {
     "data": {
      "text/plain": [
       "tensor([ 1.,  2.,  3.,  4.,  5.,  6.,  7.,  8.,  9., 10.])"
      ]
     },
     "execution_count": 24,
     "metadata": {},
     "output_type": "execute_result"
    }
   ],
   "source": [
    "#linspace generates numbers in given range with equal interval\n",
    "x = torch.linspace(start=1, end=10, steps=10)\n",
    "x"
   ]
  },
  {
   "cell_type": "code",
   "execution_count": 49,
   "metadata": {},
   "outputs": [
    {
     "data": {
      "text/plain": [
       "(tensor([[ 1.,  2.,  3.],\n",
       "         [ 7.,  8.,  9.],\n",
       "         [13., 14., 15.]]), tensor([[ 4.,  5.,  6.],\n",
       "         [10., 11., 12.],\n",
       "         [16., 17., 18.]]))"
      ]
     },
     "execution_count": 49,
     "metadata": {},
     "output_type": "execute_result"
    }
   ],
   "source": [
    "#chunk divide the tensor into given number of  parts\n",
    "tensor_chunk = torch.chunk(torcharr, 2, 1)\n",
    "tensor_chunk"
   ]
  },
  {
   "cell_type": "code",
   "execution_count": 60,
   "metadata": {},
   "outputs": [
    {
     "data": {
      "text/plain": [
       "tensor([[ 1.,  2.,  3.,  4.,  5.,  6.],\n",
       "        [ 7.,  8.,  9., 10., 11., 12.],\n",
       "        [13., 14., 15., 16., 17., 18.]])"
      ]
     },
     "execution_count": 60,
     "metadata": {},
     "output_type": "execute_result"
    }
   ],
   "source": [
    "y = torch.transpose(torcharr,1,0)\n",
    "y"
   ]
  },
  {
   "cell_type": "code",
   "execution_count": 61,
   "metadata": {},
   "outputs": [
    {
     "data": {
      "text/plain": [
       "torch.return_types.sort(\n",
       "values=tensor([[ 1.,  2.,  3.,  4.,  5.,  6.],\n",
       "        [ 7.,  8.,  9., 10., 11., 12.],\n",
       "        [13., 14., 15., 16., 17., 18.]]),\n",
       "indices=tensor([[0, 1, 2, 3, 4, 5],\n",
       "        [0, 1, 2, 3, 4, 5],\n",
       "        [0, 1, 2, 3, 4, 5]]))"
      ]
     },
     "execution_count": 61,
     "metadata": {},
     "output_type": "execute_result"
    }
   ],
   "source": [
    "#sort gives sorting of two tensors one is values sorted in each row and other is indices  \n",
    "torch_sort = torch.sort(torcharr)\n",
    "torch_sort"
   ]
  },
  {
   "cell_type": "code",
   "execution_count": 73,
   "metadata": {},
   "outputs": [
    {
     "data": {
      "text/plain": [
       "tensor([[ 3.,  3.,  3.,  4.,  5.,  6.],\n",
       "        [ 7.,  8.,  9., 10., 11., 12.],\n",
       "        [12., 12., 12., 12., 12., 12.]])"
      ]
     },
     "execution_count": 73,
     "metadata": {},
     "output_type": "execute_result"
    }
   ],
   "source": [
    "#clamp takes tensor, min, max and performs any value less than \n",
    "#min is replace with min value and viceversa\n",
    "tensorclamp = torch.clamp(torcharr, min=3, max=12)\n",
    "tensorclamp"
   ]
  },
  {
   "cell_type": "code",
   "execution_count": 76,
   "metadata": {},
   "outputs": [
    {
     "data": {
      "text/plain": [
       "tensor([0, 1])"
      ]
     },
     "execution_count": 76,
     "metadata": {},
     "output_type": "execute_result"
    }
   ],
   "source": [
    "t = torch.Tensor([[100,3],[40,50]])\n",
    "torch.argmax(t, dim=1)"
   ]
  },
  {
   "cell_type": "code",
   "execution_count": 10,
   "metadata": {},
   "outputs": [
    {
     "name": "stdout",
     "output_type": "stream",
     "text": [
      "Collecting hiddenlayer\n",
      "  Downloading https://files.pythonhosted.org/packages/b5/80/f284e0441945341c2fe669d70a17277746baf891fe4e517dcbe7784cbf24/hiddenlayer-0.2-py3-none-any.whl\n",
      "Installing collected packages: hiddenlayer\n",
      "Successfully installed hiddenlayer-0.2\n"
     ]
    }
   ],
   "source": [
    "!pip install hiddenlayer"
   ]
  },
  {
   "cell_type": "code",
   "execution_count": null,
   "metadata": {},
   "outputs": [],
   "source": []
  }
 ],
 "metadata": {
  "kernelspec": {
   "display_name": "Python 3",
   "language": "python",
   "name": "python3"
  },
  "language_info": {
   "codemirror_mode": {
    "name": "ipython",
    "version": 3
   },
   "file_extension": ".py",
   "mimetype": "text/x-python",
   "name": "python",
   "nbconvert_exporter": "python",
   "pygments_lexer": "ipython3",
   "version": "3.7.4"
  }
 },
 "nbformat": 4,
 "nbformat_minor": 2
}
